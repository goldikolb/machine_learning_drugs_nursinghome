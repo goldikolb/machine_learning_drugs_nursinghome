{
 "cells": [
  {
   "cell_type": "code",
   "execution_count": 3,
   "metadata": {},
   "outputs": [
    {
     "name": "stdout",
     "output_type": "stream",
     "text": [
      "CSV file has been saved as: Data/drugs_nursing_home.csv\n"
     ]
    }
   ],
   "source": [
    "import pandas as pd\n",
    "import numpy as np\n",
    "\n",
    "# Generating a fictional dataset with a clear inverse correlation between personnel costs and prescribed psychotropic drugs\n",
    "np.random.seed(42)  # For reproducibility\n",
    "\n",
    "# Define the base values\n",
    "base_costs = 345293\n",
    "base_meds = 28\n",
    "\n",
    "# Generate costs and medications with an inverse relationship\n",
    "costs = np.linspace(base_costs, base_costs + 200000, 10).astype(int)\n",
    "meds = np.linspace(base_meds, base_meds - 20, 10).astype(int)\n",
    "\n",
    "# Create the DataFrame\n",
    "df = pd.DataFrame({\n",
    "    'Personalkosten (€)': costs,\n",
    "    'Psychophrmaka': meds\n",
    "})\n",
    "\n",
    "# Save the DataFrame as a CSV file\n",
    "csv_file_path = \"Data/drugs_nursing_home.csv\"\n",
    "df.to_csv(csv_file_path, index=False)\n",
    "\n",
    "print(\"CSV file has been saved as:\", csv_file_path)"
   ]
  },
  {
   "cell_type": "code",
   "execution_count": null,
   "metadata": {},
   "outputs": [],
   "source": []
  },
  {
   "cell_type": "code",
   "execution_count": null,
   "metadata": {},
   "outputs": [],
   "source": []
  }
 ],
 "metadata": {
  "kernelspec": {
   "display_name": "Python 3 (ipykernel)",
   "language": "python",
   "name": "python3"
  },
  "language_info": {
   "codemirror_mode": {
    "name": "ipython",
    "version": 3
   },
   "file_extension": ".py",
   "mimetype": "text/x-python",
   "name": "python",
   "nbconvert_exporter": "python",
   "pygments_lexer": "ipython3",
   "version": "3.12.3"
  }
 },
 "nbformat": 4,
 "nbformat_minor": 4
}
